{
 "cells": [
  {
   "cell_type": "code",
   "execution_count": null,
   "metadata": {
    "notebookRunGroups": {
     "groupValue": "2"
    }
   },
   "outputs": [],
   "source": [
    "from translate import Translator\n",
    "import pandas as pd\n",
    "\n",
    "translator = Translator(to_lang='zh_CN')\n",
    "# Load the Excel file\n",
    "variable_labels = pd.read_excel('variable_labels.xlsx')\n",
    "\n",
    "# Translate the 'label' column\n",
    "def safe_translate(text):\n",
    "    try:\n",
    "        return translator.translate(text)\n",
    "    except StopIteration:\n",
    "        return text\n",
    "\n",
    "variable_labels['label_translated'] = variable_labels['label'].apply(lambda x: safe_translate(x) if pd.notnull(x) else x)\n",
    "\n",
    "# Save the translated DataFrame to a new Excel file\n",
    "variable_labels.to_excel('variable_labels_translated.xlsx', index=False)\n",
    "\n"
   ]
  }
 ],
 "metadata": {
  "kernelspec": {
   "display_name": ".venv",
   "language": "python",
   "name": "python3"
  },
  "language_info": {
   "codemirror_mode": {
    "name": "ipython",
    "version": 3
   },
   "file_extension": ".py",
   "mimetype": "text/x-python",
   "name": "python",
   "nbconvert_exporter": "python",
   "pygments_lexer": "ipython3",
   "version": "3.13.0"
  }
 },
 "nbformat": 4,
 "nbformat_minor": 2
}
