{
 "cells": [
  {
   "cell_type": "code",
   "execution_count": 1,
   "metadata": {
    "vscode": {
     "languageId": "r"
    }
   },
   "outputs": [
    {
     "name": "stderr",
     "output_type": "stream",
     "text": [
      "\n",
      "Attaching package: 'dplyr'\n",
      "\n",
      "\n",
      "The following objects are masked from 'package:stats':\n",
      "\n",
      "    filter, lag\n",
      "\n",
      "\n",
      "The following objects are masked from 'package:base':\n",
      "\n",
      "    intersect, setdiff, setequal, union\n",
      "\n",
      "\n"
     ]
    },
    {
     "name": "stdout",
     "output_type": "stream",
     "text": [
      "\u001b[90m# A tibble: 21,805 x 7,595\u001b[39m\n",
      "   ID        householdID.x communityID.x pa001   pa002   qa001s1 qa001s2 qa001s3\n",
      "   \u001b[3m\u001b[90m<chr>\u001b[39m\u001b[23m     \u001b[3m\u001b[90m<chr>\u001b[39m\u001b[23m         \u001b[3m\u001b[90m<chr>\u001b[39m\u001b[23m         \u001b[3m\u001b[90m<dbl+l>\u001b[39m\u001b[23m \u001b[3m\u001b[90m<dbl+l>\u001b[39m\u001b[23m \u001b[3m\u001b[90m<dbl+l>\u001b[39m\u001b[23m \u001b[3m\u001b[90m<dbl+l>\u001b[39m\u001b[23m \u001b[3m\u001b[90m<dbl+l>\u001b[39m\u001b[23m\n",
      "\u001b[90m 1\u001b[39m 09400410~ 0940041030    0940041       5\u001b[90m [5 N\u001b[39m\u001b[90m~\u001b[39m 1\u001b[90m [1 Y\u001b[39m\u001b[90m~\u001b[39m \u001b[31mNA\u001b[39m      \u001b[31mNA\u001b[39m      \u001b[31mNA\u001b[39m     \n",
      "\u001b[90m 2\u001b[39m 09400411~ 0940041100    0940041       5\u001b[90m [5 N\u001b[39m\u001b[90m~\u001b[39m 1\u001b[90m [1 Y\u001b[39m\u001b[90m~\u001b[39m \u001b[31mNA\u001b[39m      \u001b[31mNA\u001b[39m      \u001b[31mNA\u001b[39m     \n",
      "\u001b[90m 3\u001b[39m 09400410~ 0940041080    0940041       5\u001b[90m [5 N\u001b[39m\u001b[90m~\u001b[39m 1\u001b[90m [1 Y\u001b[39m\u001b[90m~\u001b[39m \u001b[31mNA\u001b[39m      \u001b[31mNA\u001b[39m      \u001b[31mNA\u001b[39m     \n",
      "\u001b[90m 4\u001b[39m 09400411~ 0940041120    0940041       5\u001b[90m [5 N\u001b[39m\u001b[90m~\u001b[39m 1\u001b[90m [1 Y\u001b[39m\u001b[90m~\u001b[39m \u001b[31mNA\u001b[39m      \u001b[31mNA\u001b[39m      \u001b[31mNA\u001b[39m     \n",
      "\u001b[90m 5\u001b[39m 09400411~ 0940041120    0940041       5\u001b[90m [5 N\u001b[39m\u001b[90m~\u001b[39m 1\u001b[90m [1 Y\u001b[39m\u001b[90m~\u001b[39m \u001b[31mNA\u001b[39m      \u001b[31mNA\u001b[39m      \u001b[31mNA\u001b[39m     \n",
      "\u001b[90m 6\u001b[39m 09400411~ 0940041140    0940041       5\u001b[90m [5 N\u001b[39m\u001b[90m~\u001b[39m 1\u001b[90m [1 Y\u001b[39m\u001b[90m~\u001b[39m \u001b[31mNA\u001b[39m      \u001b[31mNA\u001b[39m      \u001b[31mNA\u001b[39m     \n",
      "\u001b[90m 7\u001b[39m 09400411~ 0940041190    0940041       5\u001b[90m [5 N\u001b[39m\u001b[90m~\u001b[39m 1\u001b[90m [1 Y\u001b[39m\u001b[90m~\u001b[39m \u001b[31mNA\u001b[39m      \u001b[31mNA\u001b[39m      \u001b[31mNA\u001b[39m     \n",
      "\u001b[90m 8\u001b[39m 09400411~ 0940041170    0940041       5\u001b[90m [5 N\u001b[39m\u001b[90m~\u001b[39m 1\u001b[90m [1 Y\u001b[39m\u001b[90m~\u001b[39m \u001b[31mNA\u001b[39m      \u001b[31mNA\u001b[39m      \u001b[31mNA\u001b[39m     \n",
      "\u001b[90m 9\u001b[39m 09400411~ 0940041170    0940041       5\u001b[90m [5 N\u001b[39m\u001b[90m~\u001b[39m 1\u001b[90m [1 Y\u001b[39m\u001b[90m~\u001b[39m \u001b[31mNA\u001b[39m      \u001b[31mNA\u001b[39m      \u001b[31mNA\u001b[39m     \n",
      "\u001b[90m10\u001b[39m 09400431~ 0940043100    0940043       5\u001b[90m [5 N\u001b[39m\u001b[90m~\u001b[39m 1\u001b[90m [1 Y\u001b[39m\u001b[90m~\u001b[39m \u001b[31mNA\u001b[39m      \u001b[31mNA\u001b[39m      \u001b[31mNA\u001b[39m     \n",
      "\u001b[90m# i 21,795 more rows\u001b[39m\n",
      "\u001b[90m# i 7,587 more variables: qa001s4 <dbl+lbl>, qa001s5 <dbl+lbl>,\u001b[39m\n",
      "\u001b[90m#   qa001s6 <dbl+lbl>, qa001s7 <dbl+lbl>, qa001s8 <dbl+lbl>,\u001b[39m\n",
      "\u001b[90m#   qa001s97 <dbl+lbl>, qa002 <chr>, qa002_1 <chr>, qa003 <dbl>, qa004 <dbl>,\u001b[39m\n",
      "\u001b[90m#   qa005 <dbl>, qa006 <chr>, qa006_1 <chr>, qa007 <dbl>, qa008 <dbl>,\u001b[39m\n",
      "\u001b[90m#   qa009 <dbl>, qa010 <chr>, qa010_1 <chr>, qa011 <dbl>, qa012 <dbl>,\u001b[39m\n",
      "\u001b[90m#   qa013 <dbl>, qa014 <dbl+lbl>, qa015 <dbl+lbl>, qa016 <dbl+lbl>, ...\u001b[39m\n"
     ]
    }
   ],
   "source": [
    "# 安装并加载所需要的包\n",
    "if (!requireNamespace(\"haven\", quietly = TRUE)) {\n",
    "    install.packages(\"haven\")\n",
    "}\n",
    "if (!requireNamespace(\"dplyr\", quietly = TRUE)) {\n",
    "    install.packages(\"dplyr\")\n",
    "}\n",
    "library(haven)\n",
    "library(dplyr)\n",
    "\n",
    "# 读取并合并数据\n",
    "files <- list.files(\"data_raw/self\",\n",
    "    pattern = \"\\\\.dta$\",\n",
    "    full.names = TRUE\n",
    ")\n",
    "data_list <- lapply(files, read_dta)\n",
    "my_data_raw <- Reduce(function(x, y) full_join(x, y, by = \"ID\"), data_list)\n",
    "print(my_data_raw)"
   ]
  }
 ],
 "metadata": {
  "kernelspec": {
   "display_name": "R",
   "language": "R",
   "name": "ir"
  },
  "language_info": {
   "codemirror_mode": "r",
   "file_extension": ".r",
   "mimetype": "text/x-r-source",
   "name": "R",
   "pygments_lexer": "r",
   "version": "4.4.2"
  }
 },
 "nbformat": 4,
 "nbformat_minor": 2
}
